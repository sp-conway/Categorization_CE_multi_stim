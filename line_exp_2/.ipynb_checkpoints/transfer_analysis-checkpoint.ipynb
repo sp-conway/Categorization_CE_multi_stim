{
 "cells": [
  {
   "cell_type": "code",
   "execution_count": 116,
   "id": "540bb00e",
   "metadata": {},
   "outputs": [],
   "source": [
    "# setup\n",
    "import numpy as np\n",
    "import pandas as pd\n",
    "import os \n"
   ]
  },
  {
   "cell_type": "code",
   "execution_count": 190,
   "id": "53f57fb4",
   "metadata": {},
   "outputs": [],
   "source": [
    "# import data and wrangle attraction data\n",
    "data = pd.read_csv('data/cleaned/dataset_transfer_cleaned.csv',na_values='NaN')\n",
    "attraction = data[data['trial_type']=='attraction']\n",
    "attraction.loc[attraction['target'] < attraction['competitor'], 'set'] = 'a-b-da'\n",
    "attraction.loc[attraction['target'] > attraction['competitor'], 'set'] = 'a-b-db'\n",
    "attraction.loc[(attraction['set']=='a-b-da') & (attraction['choice']==attraction['target']), 'choice_new'] = 'a'\n",
    "attraction.loc[(attraction['set']=='a-b-da') & (attraction['choice']==attraction['competitor']), 'choice_new'] = 'b'\n",
    "attraction.loc[(attraction['set']=='a-b-db') & (attraction['choice']==attraction['target']), 'choice_new'] = 'b'\n",
    "attraction.loc[(attraction['set']=='a-b-db') & (attraction['choice']==attraction['competitor']), 'choice_new'] = 'a'\n",
    "attraction.loc[attraction['choice']==attraction['decoy'],'choice_new']='d'"
   ]
  },
  {
   "cell_type": "code",
   "execution_count": 196,
   "id": "d8422257",
   "metadata": {},
   "outputs": [
    {
     "ename": "TypeError",
     "evalue": "crosstab() missing 1 required positional argument: 'index'",
     "output_type": "error",
     "traceback": [
      "\u001b[0;31m---------------------------------------------------------------------------\u001b[0m",
      "\u001b[0;31mTypeError\u001b[0m                                 Traceback (most recent call last)",
      "Cell \u001b[0;32mIn[196], line 2\u001b[0m\n\u001b[1;32m      1\u001b[0m attraction\u001b[38;5;241m.\u001b[39mgroupby(by\u001b[38;5;241m=\u001b[39m[\u001b[38;5;124m'\u001b[39m\u001b[38;5;124msub_n\u001b[39m\u001b[38;5;124m'\u001b[39m,\u001b[38;5;124m'\u001b[39m\u001b[38;5;124mset\u001b[39m\u001b[38;5;124m'\u001b[39m,\u001b[38;5;124m'\u001b[39m\u001b[38;5;124mtrial_type\u001b[39m\u001b[38;5;124m'\u001b[39m,\u001b[38;5;124m'\u001b[39m\u001b[38;5;124mchoice_new\u001b[39m\u001b[38;5;124m'\u001b[39m])\u001b[38;5;241m.\u001b[39magg(\u001b[38;5;124m'\u001b[39m\u001b[38;5;124msize\u001b[39m\u001b[38;5;124m'\u001b[39m)\n\u001b[0;32m----> 2\u001b[0m pd\u001b[38;5;241m.\u001b[39mcrosstab(columns\u001b[38;5;241m=\u001b[39m[\u001b[38;5;124m'\u001b[39m\u001b[38;5;124msub_n\u001b[39m\u001b[38;5;124m'\u001b[39m,\u001b[38;5;124m'\u001b[39m\u001b[38;5;124mset\u001b[39m\u001b[38;5;124m'\u001b[39m,\u001b[38;5;124m'\u001b[39m\u001b[38;5;124mtrial_type\u001b[39m\u001b[38;5;124m'\u001b[39m,\u001b[38;5;124m'\u001b[39m\u001b[38;5;124mchoice_new\u001b[39m\u001b[38;5;124m'\u001b[39m])\n",
      "\u001b[0;31mTypeError\u001b[0m: crosstab() missing 1 required positional argument: 'index'"
     ]
    }
   ],
   "source": [
    "attraction.groupby(by=['sub_n','set','trial_type','choice_new']).agg('size')\n",
    "pd.crosstab(columns=['sub_n','set','trial_type','choice_new'])"
   ]
  },
  {
   "cell_type": "code",
   "execution_count": 154,
   "id": "c745b54d",
   "metadata": {},
   "outputs": [
    {
     "data": {
      "text/plain": [
       "array([0, 1])"
      ]
     },
     "execution_count": 154,
     "metadata": {},
     "output_type": "execute_result"
    }
   ],
   "source": []
  }
 ],
 "metadata": {
  "kernelspec": {
   "display_name": "Python (Categorization_CE)",
   "language": "python",
   "name": "categorization_ce"
  },
  "language_info": {
   "codemirror_mode": {
    "name": "ipython",
    "version": 3
   },
   "file_extension": ".py",
   "mimetype": "text/x-python",
   "name": "python",
   "nbconvert_exporter": "python",
   "pygments_lexer": "ipython3",
   "version": "3.12.4"
  }
 },
 "nbformat": 4,
 "nbformat_minor": 5
}
