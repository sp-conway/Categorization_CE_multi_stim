{
 "cells": [
  {
   "cell_type": "code",
   "execution_count": 84,
   "id": "1f346a64-5f05-4601-be5d-77a9f78bcda9",
   "metadata": {},
   "outputs": [
    {
     "data": {
      "text/plain": [
       "array([36, 14, 17, 10, 19,  7, 20, 18,  6, 12, 13, 11, 23, 24, 38, 32, 28,\n",
       "        1, 22, 21,  8, 25, 35,  0,  2,  5, 29, 39,  9,  3, 30, 26,  4, 27,\n",
       "       31, 16, 15, 37, 34])"
      ]
     },
     "execution_count": 84,
     "metadata": {},
     "output_type": "execute_result"
    }
   ],
   "source": [
    "import numpy as np\n",
    "d = np.loadtxt('conditions/learn_demo_in_centered.txt')\n",
    "x=np.arange(0,40)\n",
    "x\n",
    "np.random.choice(x,39,replace=False)\n"
   ]
  }
 ],
 "metadata": {
  "kernelspec": {
   "display_name": "Python (Categorization_CE)",
   "language": "python",
   "name": "categorization_ce"
  },
  "language_info": {
   "codemirror_mode": {
    "name": "ipython",
    "version": 3
   },
   "file_extension": ".py",
   "mimetype": "text/x-python",
   "name": "python",
   "nbconvert_exporter": "python",
   "pygments_lexer": "ipython3",
   "version": "3.12.4"
  }
 },
 "nbformat": 4,
 "nbformat_minor": 5
}
