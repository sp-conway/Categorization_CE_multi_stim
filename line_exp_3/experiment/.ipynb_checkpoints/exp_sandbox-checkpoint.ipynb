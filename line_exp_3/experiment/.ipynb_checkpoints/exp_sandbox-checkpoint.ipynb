{
 "cells": [
  {
   "cell_type": "code",
   "execution_count": 20,
   "id": "1f346a64-5f05-4601-be5d-77a9f78bcda9",
   "metadata": {},
   "outputs": [
    {
     "data": {
      "text/plain": [
       "array([221., 223., 233., 227., 234., 232., 236., 242., 244., 247., 236.,\n",
       "       236., 254., 252., 257., 255., 249., 259., 253., 256., 262., 263.,\n",
       "       260., 266., 268., 268., 266., 266., 277., 284., 285., 278., 275.,\n",
       "       283., 296., 296., 299., 293., 305., 305.])"
      ]
     },
     "execution_count": 20,
     "metadata": {},
     "output_type": "execute_result"
    }
   ],
   "source": [
    "import numpy as np\n",
    "d = np.loadtxt('conditions/learn_demo_in_centered.txt')"
   ]
  }
 ],
 "metadata": {
  "kernelspec": {
   "display_name": "Python (Categorization_CE)",
   "language": "python",
   "name": "categorization_ce"
  },
  "language_info": {
   "codemirror_mode": {
    "name": "ipython",
    "version": 3
   },
   "file_extension": ".py",
   "mimetype": "text/x-python",
   "name": "python",
   "nbconvert_exporter": "python",
   "pygments_lexer": "ipython3",
   "version": "3.12.4"
  }
 },
 "nbformat": 4,
 "nbformat_minor": 5
}
